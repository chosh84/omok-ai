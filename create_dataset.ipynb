{
  "nbformat": 4,
  "nbformat_minor": 0,
  "metadata": {
    "colab": {
      "name": "create_dataset.ipynb",
      "provenance": [],
      "collapsed_sections": [],
      "authorship_tag": "ABX9TyMYF1uILwUtCnnQ09ZxaC8a",
      "include_colab_link": true
    },
    "kernelspec": {
      "name": "python3",
      "display_name": "Python 3"
    },
    "language_info": {
      "name": "python"
    }
  },
  "cells": [
    {
      "cell_type": "markdown",
      "metadata": {
        "id": "view-in-github",
        "colab_type": "text"
      },
      "source": [
        "<a href=\"https://colab.research.google.com/github/chosh84/omok-ai/blob/master/create_dataset.ipynb\" target=\"_parent\"><img src=\"https://colab.research.google.com/assets/colab-badge.svg\" alt=\"Open In Colab\"/></a>"
      ]
    },
    {
      "cell_type": "code",
      "execution_count": null,
      "metadata": {
        "id": "1NCDihjGN5Ff"
      },
      "outputs": [],
      "source": [
        "URL = 'https://nnfs.io/datasets/fashion_mnist_images.zip'\n",
        "FILE = 'fashion_mnist_images.zip'\n",
        "FOLDER = 'fashion_mnist_images'\n",
        "\n",
        "import os\n",
        "import urllib\n",
        "import urllib.request\n",
        "if not os.path.isfile(FILE):\n",
        "  print(f'Downloading {URL} and saving as {FILE}...') \n",
        "  urllib.request.urlretrieve(URL, FILE)\n",
        "\n",
        "from zipfile import ZipFile\n",
        "print('Unzipping images...')\n",
        "with ZipFile(FILE) as zip_images:\n",
        "  zip_images.extractall(FOLDER)\n",
        "\n"
      ]
    }
  ]
}